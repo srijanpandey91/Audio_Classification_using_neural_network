{
  "nbformat": 4,
  "nbformat_minor": 0,
  "metadata": {
    "colab": {
      "name": "LSTM.ipynb",
      "provenance": [],
      "collapsed_sections": []
    },
    "kernelspec": {
      "name": "python3",
      "display_name": "Python 3"
    },
    "accelerator": "GPU"
  },
  "cells": [
    {
      "cell_type": "code",
      "metadata": {
        "id": "Pp5J6NJV931u",
        "colab_type": "code",
        "colab": {
          "base_uri": "https://localhost:8080/",
          "height": 35
        },
        "outputId": "7ac4f688-b594-44db-e605-8623b8776aa9"
      },
      "source": [
        "from google.colab import drive\n",
        "drive.mount('/Research')"
      ],
      "execution_count": 1,
      "outputs": [
        {
          "output_type": "stream",
          "text": [
            "Drive already mounted at /Research; to attempt to forcibly remount, call drive.mount(\"/Research\", force_remount=True).\n"
          ],
          "name": "stdout"
        }
      ]
    },
    {
      "cell_type": "code",
      "metadata": {
        "id": "2OA4vZjq_NEg",
        "colab_type": "code",
        "colab": {
          "base_uri": "https://localhost:8080/",
          "height": 35
        },
        "outputId": "b3bfcfaa-8b34-4028-a6ec-85f0b30bf248"
      },
      "source": [
        "pip install python_speech_features"
      ],
      "execution_count": 2,
      "outputs": [
        {
          "output_type": "stream",
          "text": [
            "Requirement already satisfied: python_speech_features in /usr/local/lib/python3.6/dist-packages (0.6)\n"
          ],
          "name": "stdout"
        }
      ]
    },
    {
      "cell_type": "code",
      "metadata": {
        "id": "RKugYtZ2-FbH",
        "colab_type": "code",
        "colab": {
          "base_uri": "https://localhost:8080/",
          "height": 72
        },
        "outputId": "a53b875c-5866-4c3b-fb0e-6aec82983571"
      },
      "source": [
        "import pandas as pd       \n",
        "import os \n",
        "import math \n",
        "import numpy as np\n",
        "import matplotlib.pyplot as plt  \n",
        "import IPython.display as ipd\n",
        "import librosa as lr\n",
        "import librosa.display\n",
        "from glob import glob\n",
        "from tqdm import tqdm\n",
        "import scipy.io\n",
        "from os.path import dirname, join as pjoin\n",
        "from scipy.io import wavfile\n",
        "from python_speech_features import mfcc, logfbank\n",
        "from sklearn.model_selection import train_test_split\n",
        "from keras.layers import Dropout, TimeDistributed\n",
        "from keras import regularizers\n",
        "from keras.callbacks import EarlyStopping\n",
        "from keras.models import Model\n",
        "from keras.preprocessing import image\n",
        "from keras.models import Sequential\n",
        "from keras.utils import plot_model\n",
        "from keras.models import load_model\n",
        "import tensorflow as tf\n",
        "from keras.utils import to_categorical\n",
        "from sklearn.utils.class_weight import compute_class_weight\n",
        "import keras\n",
        "import pickle\n",
        "from keras.callbacks import ModelCheckpoint\n",
        "from keras.layers import LSTM, Dense, Flatten\n",
        "from keras.callbacks import ReduceLROnPlateau\n",
        "from sklearn.metrics import roc_curve, roc_auc_score, auc\n",
        "from sklearn.metrics import  average_precision_score, precision_recall_curve\n",
        "from sklearn.metrics import accuracy_score, f1_score, precision_score, recall_score, classification_report, confusion_matrix\n",
        "from sklearn.metrics import mean_absolute_error\n",
        "import seaborn as sns\n",
        "from sklearn.metrics import mean_squared_error"
      ],
      "execution_count": 3,
      "outputs": [
        {
          "output_type": "stream",
          "text": [
            "/usr/local/lib/python3.6/dist-packages/statsmodels/tools/_testing.py:19: FutureWarning: pandas.util.testing is deprecated. Use the functions in the public API at pandas.testing instead.\n",
            "  import pandas.util.testing as tm\n"
          ],
          "name": "stderr"
        }
      ]
    },
    {
      "cell_type": "code",
      "metadata": {
        "id": "5h2B6DIL_bfK",
        "colab_type": "code",
        "colab": {
          "base_uri": "https://localhost:8080/",
          "height": 289
        },
        "outputId": "b2c8cc3d-b527-441b-d2ac-37adc9162f85"
      },
      "source": [
        "new_df = pd.read_csv('/Research/My Drive/Research/new_df.csv')\n",
        "new_df.head()"
      ],
      "execution_count": 4,
      "outputs": [
        {
          "output_type": "execute_result",
          "data": {
            "text/html": [
              "<div>\n",
              "<style scoped>\n",
              "    .dataframe tbody tr th:only-of-type {\n",
              "        vertical-align: middle;\n",
              "    }\n",
              "\n",
              "    .dataframe tbody tr th {\n",
              "        vertical-align: top;\n",
              "    }\n",
              "\n",
              "    .dataframe thead th {\n",
              "        text-align: right;\n",
              "    }\n",
              "</style>\n",
              "<table border=\"1\" class=\"dataframe\">\n",
              "  <thead>\n",
              "    <tr style=\"text-align: right;\">\n",
              "      <th></th>\n",
              "      <th>age</th>\n",
              "      <th>age_onset</th>\n",
              "      <th>birthplace</th>\n",
              "      <th>filename</th>\n",
              "      <th>native_language</th>\n",
              "      <th>sex</th>\n",
              "      <th>speakerid</th>\n",
              "      <th>country</th>\n",
              "      <th>file_missing?</th>\n",
              "      <th>vid_len</th>\n",
              "      <th>age_group</th>\n",
              "      <th>clean_len</th>\n",
              "    </tr>\n",
              "  </thead>\n",
              "  <tbody>\n",
              "    <tr>\n",
              "      <th>0</th>\n",
              "      <td>27.0</td>\n",
              "      <td>9.0</td>\n",
              "      <td>virginia, south africa</td>\n",
              "      <td>afrikaans1</td>\n",
              "      <td>afrikaans</td>\n",
              "      <td>female</td>\n",
              "      <td>1</td>\n",
              "      <td>south africa</td>\n",
              "      <td>False</td>\n",
              "      <td>20.772268</td>\n",
              "      <td>Millennials</td>\n",
              "      <td>20.772313</td>\n",
              "    </tr>\n",
              "    <tr>\n",
              "      <th>1</th>\n",
              "      <td>40.0</td>\n",
              "      <td>5.0</td>\n",
              "      <td>pretoria, south africa</td>\n",
              "      <td>afrikaans2</td>\n",
              "      <td>afrikaans</td>\n",
              "      <td>male</td>\n",
              "      <td>2</td>\n",
              "      <td>south africa</td>\n",
              "      <td>False</td>\n",
              "      <td>21.961497</td>\n",
              "      <td>Millennials</td>\n",
              "      <td>21.496500</td>\n",
              "    </tr>\n",
              "    <tr>\n",
              "      <th>2</th>\n",
              "      <td>43.0</td>\n",
              "      <td>4.0</td>\n",
              "      <td>pretoria, transvaal, south africa</td>\n",
              "      <td>afrikaans3</td>\n",
              "      <td>afrikaans</td>\n",
              "      <td>male</td>\n",
              "      <td>418</td>\n",
              "      <td>south africa</td>\n",
              "      <td>False</td>\n",
              "      <td>26.880000</td>\n",
              "      <td>Baby Boomers</td>\n",
              "      <td>26.880000</td>\n",
              "    </tr>\n",
              "    <tr>\n",
              "      <th>3</th>\n",
              "      <td>26.0</td>\n",
              "      <td>8.0</td>\n",
              "      <td>pretoria, south africa</td>\n",
              "      <td>afrikaans4</td>\n",
              "      <td>afrikaans</td>\n",
              "      <td>male</td>\n",
              "      <td>1159</td>\n",
              "      <td>south africa</td>\n",
              "      <td>False</td>\n",
              "      <td>23.471179</td>\n",
              "      <td>Millennials</td>\n",
              "      <td>23.020312</td>\n",
              "    </tr>\n",
              "    <tr>\n",
              "      <th>4</th>\n",
              "      <td>19.0</td>\n",
              "      <td>6.0</td>\n",
              "      <td>cape town, south africa</td>\n",
              "      <td>afrikaans5</td>\n",
              "      <td>afrikaans</td>\n",
              "      <td>male</td>\n",
              "      <td>1432</td>\n",
              "      <td>south africa</td>\n",
              "      <td>False</td>\n",
              "      <td>20.252404</td>\n",
              "      <td>Gen Z</td>\n",
              "      <td>20.252437</td>\n",
              "    </tr>\n",
              "  </tbody>\n",
              "</table>\n",
              "</div>"
            ],
            "text/plain": [
              "    age  age_onset  ...     age_group  clean_len\n",
              "0  27.0        9.0  ...   Millennials  20.772313\n",
              "1  40.0        5.0  ...   Millennials  21.496500\n",
              "2  43.0        4.0  ...  Baby Boomers  26.880000\n",
              "3  26.0        8.0  ...   Millennials  23.020312\n",
              "4  19.0        6.0  ...         Gen Z  20.252437\n",
              "\n",
              "[5 rows x 12 columns]"
            ]
          },
          "metadata": {
            "tags": []
          },
          "execution_count": 4
        }
      ]
    },
    {
      "cell_type": "code",
      "metadata": {
        "id": "ba12_GMwB6lp",
        "colab_type": "code",
        "colab": {}
      },
      "source": [
        "n_samples = 2*int(new_df['clean_len'].sum())\n",
        "classes = list(np.unique(new_df.age_group))\n",
        "class_dist = new_df.groupby(['age_group'])['clean_len'].mean()\n",
        "prob_dist = class_dist/class_dist.sum()\n",
        "choices = np.random.choice(class_dist.index, p=prob_dist)"
      ],
      "execution_count": 5,
      "outputs": []
    },
    {
      "cell_type": "code",
      "metadata": {
        "id": "TUcm8ZvKwzV9",
        "colab_type": "code",
        "colab": {
          "base_uri": "https://localhost:8080/",
          "height": 121
        },
        "outputId": "57d42ea3-50ea-4efa-f665-9a9b79dfc9c0"
      },
      "source": [
        "class_dist"
      ],
      "execution_count": 6,
      "outputs": [
        {
          "output_type": "execute_result",
          "data": {
            "text/plain": [
              "age_group\n",
              "Alpha           22.473844\n",
              "Baby Boomers    30.327223\n",
              "Gen Z           24.893638\n",
              "Millennials     27.402976\n",
              "Name: clean_len, dtype: float64"
            ]
          },
          "metadata": {
            "tags": []
          },
          "execution_count": 6
        }
      ]
    },
    {
      "cell_type": "code",
      "metadata": {
        "id": "A5rPUu3gw26s",
        "colab_type": "code",
        "colab": {
          "base_uri": "https://localhost:8080/",
          "height": 121
        },
        "outputId": "47cb2865-5a60-475f-8d79-0006554e6088"
      },
      "source": [
        "prob_dist"
      ],
      "execution_count": 7,
      "outputs": [
        {
          "output_type": "execute_result",
          "data": {
            "text/plain": [
              "age_group\n",
              "Alpha           0.213838\n",
              "Baby Boomers    0.288562\n",
              "Gen Z           0.236862\n",
              "Millennials     0.260738\n",
              "Name: clean_len, dtype: float64"
            ]
          },
          "metadata": {
            "tags": []
          },
          "execution_count": 7
        }
      ]
    },
    {
      "cell_type": "code",
      "metadata": {
        "id": "23I8ioPKw8j3",
        "colab_type": "code",
        "colab": {
          "base_uri": "https://localhost:8080/",
          "height": 35
        },
        "outputId": "5d782287-ce40-46f8-8292-7e2ebe6d9941"
      },
      "source": [
        "choices"
      ],
      "execution_count": 8,
      "outputs": [
        {
          "output_type": "execute_result",
          "data": {
            "application/vnd.google.colaboratory.intrinsic+json": {
              "type": "string"
            },
            "text/plain": [
              "'Baby Boomers'"
            ]
          },
          "metadata": {
            "tags": []
          },
          "execution_count": 8
        }
      ]
    },
    {
      "cell_type": "code",
      "metadata": {
        "id": "tpnywexiCGgM",
        "colab_type": "code",
        "colab": {}
      },
      "source": [
        "new_df.set_index('filename', inplace=True)"
      ],
      "execution_count": 9,
      "outputs": []
    },
    {
      "cell_type": "code",
      "metadata": {
        "id": "TwJGCjTeCQBt",
        "colab_type": "code",
        "colab": {}
      },
      "source": [
        "def check_data():\n",
        "  if os.path.isfile(pickles_path):\n",
        "    with open(pickles_path, 'rb') as handle:\n",
        "      tmp = pickle.load(handle)\n",
        "      return tmp\n",
        "  else:\n",
        "    return None"
      ],
      "execution_count": 10,
      "outputs": []
    },
    {
      "cell_type": "code",
      "metadata": {
        "id": "HDY0glFICUY3",
        "colab_type": "code",
        "colab": {}
      },
      "source": [
        "def build_random_feat():\n",
        "  X = []\n",
        "  y = []\n",
        "  _min, _max = float('inf'), -float('inf')\n",
        "  for _ in tqdm(range(n_samples)):\n",
        "    rand_class = np.random.choice(class_dist.index, p=prob_dist)\n",
        "    file = np.random.choice(new_df[new_df.age_group==rand_class].index)\n",
        "    path = os.path.join(\"/Research/My Drive/Research/recordings/Clean\",file+\".wav\")\n",
        "    rate, wav = wavfile.read(path)\n",
        "    age_group = new_df.at[file, 'age_group']\n",
        "    rand_index = np.random.randint(0, wav.shape[0]-int(rate))\n",
        "    sample = wav[rand_index:rand_index+int(rate)]\n",
        "    X_sample = mfcc(sample, rate, numcep=13, nfilt=26, nfft=512)\n",
        "    _min = min(np.amin(X_sample), _min)\n",
        "    _max = max(np.amax(X_sample), _max)\n",
        "    X.append(X_sample)\n",
        "    y.append(classes.index(age_group))\n",
        "  X, y = np.array(X), np.array(y)\n",
        "  X = (X- _min) / (_max - _min)\n",
        "  X = X.reshape(X.shape[0], X.shape[1], X.shape[2])\n",
        "  y = to_categorical(y, num_classes=4)\n",
        "  return X, y"
      ],
      "execution_count": 11,
      "outputs": []
    },
    {
      "cell_type": "code",
      "metadata": {
        "id": "M-vQfxqHCuQW",
        "colab_type": "code",
        "colab": {}
      },
      "source": [
        "model_path = os.path.join('Models')\n",
        "pickles_path = os.path.join('pickles', '.p')"
      ],
      "execution_count": 12,
      "outputs": []
    },
    {
      "cell_type": "code",
      "metadata": {
        "id": "jNBtVnVKCc61",
        "colab_type": "code",
        "colab": {
          "base_uri": "https://localhost:8080/",
          "height": 35
        },
        "outputId": "148bff54-a793-4cfe-899d-6d0223788637"
      },
      "source": [
        "X, y = build_random_feat()"
      ],
      "execution_count": 13,
      "outputs": [
        {
          "output_type": "stream",
          "text": [
            "100%|██████████| 115916/115916 [16:58<00:00, 113.76it/s]\n"
          ],
          "name": "stderr"
        }
      ]
    },
    {
      "cell_type": "code",
      "metadata": {
        "id": "kSK2hIYxE6W0",
        "colab_type": "code",
        "colab": {}
      },
      "source": [
        "X_train, X_test, y_train, y_test = train_test_split(X, y, random_state=2, test_size=0.2)"
      ],
      "execution_count": 14,
      "outputs": []
    },
    {
      "cell_type": "code",
      "metadata": {
        "id": "xG7mjnH7FAbk",
        "colab_type": "code",
        "colab": {}
      },
      "source": [
        "input_shape = (X.shape[1], X.shape[2])"
      ],
      "execution_count": 15,
      "outputs": []
    },
    {
      "cell_type": "code",
      "metadata": {
        "id": "O8QuDo1tFJ7g",
        "colab_type": "code",
        "colab": {}
      },
      "source": [
        "y_trains = np.argmax(y_train, axis=1)"
      ],
      "execution_count": 16,
      "outputs": []
    },
    {
      "cell_type": "code",
      "metadata": {
        "id": "taz-77S8Fr5L",
        "colab_type": "code",
        "colab": {}
      },
      "source": [
        "optimizer = keras.optimizers.Adam(learning_rate=0.0001)"
      ],
      "execution_count": 17,
      "outputs": []
    },
    {
      "cell_type": "code",
      "metadata": {
        "id": "XOWq3ihUFcuI",
        "colab_type": "code",
        "colab": {}
      },
      "source": [
        "model = Sequential()\n",
        "model.add(LSTM(256, input_shape = input_shape, return_sequences=True))\n",
        "model.add(LSTM(128, return_sequences=True))\n",
        "model.add(LSTM(128, return_sequences=True))\n",
        "model.add(Dropout(0.5))\n",
        "model.add(TimeDistributed(Dense(64, activation='relu')))\n",
        "model.add(TimeDistributed(Dense(32, activation='relu')))\n",
        "model.add(TimeDistributed(Dense(16, activation='relu')))\n",
        "model.add(TimeDistributed(Dense(8, activation='relu')))\n",
        "model.add(Flatten())\n",
        "model.add(Dense(4, activation='softmax'))"
      ],
      "execution_count": 18,
      "outputs": []
    },
    {
      "cell_type": "code",
      "metadata": {
        "id": "KX13guDVYr9T",
        "colab_type": "code",
        "colab": {}
      },
      "source": [
        "LEARNING_RATE = 0.0001\n",
        "PATIENCE = 5\n",
        "RLROP = 2\n",
        "DECAY_DROP = 0.2"
      ],
      "execution_count": 19,
      "outputs": []
    },
    {
      "cell_type": "code",
      "metadata": {
        "id": "nsA3OjrBY-42",
        "colab_type": "code",
        "colab": {
          "base_uri": "https://localhost:8080/",
          "height": 503
        },
        "outputId": "0cd574a5-5f5c-47bb-da81-a3721823d54c"
      },
      "source": [
        "es = EarlyStopping(monitor='val_loss', mode='min', patience=PATIENCE, restore_best_weights=True, verbose=1)\n",
        "rlrop = ReduceLROnPlateau(monitor='val_loss', mode='min', patience=RLROP, factor=DECAY_DROP, min_lr=1e-6, verbose=1)\n",
        " \n",
        "callback_list = [es, rlrop]\n",
        "model.compile(optimizer=optimizer, loss=\"binary_crossentropy\",  metrics=['accuracy'])\n",
        "model.summary()"
      ],
      "execution_count": 20,
      "outputs": [
        {
          "output_type": "stream",
          "text": [
            "Model: \"sequential\"\n",
            "_________________________________________________________________\n",
            "Layer (type)                 Output Shape              Param #   \n",
            "=================================================================\n",
            "lstm (LSTM)                  (None, 99, 256)           276480    \n",
            "_________________________________________________________________\n",
            "lstm_1 (LSTM)                (None, 99, 128)           197120    \n",
            "_________________________________________________________________\n",
            "lstm_2 (LSTM)                (None, 99, 128)           131584    \n",
            "_________________________________________________________________\n",
            "dropout (Dropout)            (None, 99, 128)           0         \n",
            "_________________________________________________________________\n",
            "time_distributed (TimeDistri (None, 99, 64)            8256      \n",
            "_________________________________________________________________\n",
            "time_distributed_1 (TimeDist (None, 99, 32)            2080      \n",
            "_________________________________________________________________\n",
            "time_distributed_2 (TimeDist (None, 99, 16)            528       \n",
            "_________________________________________________________________\n",
            "time_distributed_3 (TimeDist (None, 99, 8)             136       \n",
            "_________________________________________________________________\n",
            "flatten (Flatten)            (None, 792)               0         \n",
            "_________________________________________________________________\n",
            "dense_4 (Dense)              (None, 4)                 3172      \n",
            "=================================================================\n",
            "Total params: 619,356\n",
            "Trainable params: 619,356\n",
            "Non-trainable params: 0\n",
            "_________________________________________________________________\n"
          ],
          "name": "stdout"
        }
      ]
    },
    {
      "cell_type": "code",
      "metadata": {
        "id": "wW4M2v--Fj_3",
        "colab_type": "code",
        "colab": {
          "base_uri": "https://localhost:8080/",
          "height": 1000
        },
        "outputId": "d757927c-1e32-4061-f582-f5069366d087"
      },
      "source": [
        "result = model.fit(X_train,y_train,epochs=50,batch_size=32,validation_data=(X_test,y_test), callbacks=callback_list)"
      ],
      "execution_count": 21,
      "outputs": [
        {
          "output_type": "stream",
          "text": [
            "Epoch 1/50\n",
            "2898/2898 [==============================] - 56s 19ms/step - loss: 0.4771 - accuracy: 0.4100 - val_loss: 0.4707 - val_accuracy: 0.4423\n",
            "Epoch 2/50\n",
            "2898/2898 [==============================] - 55s 19ms/step - loss: 0.4012 - accuracy: 0.4840 - val_loss: 0.3843 - val_accuracy: 0.5069\n",
            "Epoch 3/50\n",
            "2898/2898 [==============================] - 56s 19ms/step - loss: 0.3840 - accuracy: 0.5104 - val_loss: 0.3822 - val_accuracy: 0.5214\n",
            "Epoch 4/50\n",
            "2898/2898 [==============================] - 56s 19ms/step - loss: 0.3753 - accuracy: 0.5303 - val_loss: 0.3721 - val_accuracy: 0.5442\n",
            "Epoch 5/50\n",
            "2898/2898 [==============================] - 56s 19ms/step - loss: 0.3690 - accuracy: 0.5453 - val_loss: 0.3661 - val_accuracy: 0.5526\n",
            "Epoch 6/50\n",
            "2898/2898 [==============================] - 56s 19ms/step - loss: 0.3638 - accuracy: 0.5569 - val_loss: 0.3583 - val_accuracy: 0.5627\n",
            "Epoch 7/50\n",
            "2898/2898 [==============================] - 55s 19ms/step - loss: 0.3611 - accuracy: 0.5648 - val_loss: 0.3560 - val_accuracy: 0.5708\n",
            "Epoch 8/50\n",
            "2898/2898 [==============================] - 55s 19ms/step - loss: 0.3576 - accuracy: 0.5713 - val_loss: 0.3620 - val_accuracy: 0.5699\n",
            "Epoch 9/50\n",
            "2898/2898 [==============================] - 56s 19ms/step - loss: 0.3557 - accuracy: 0.5763 - val_loss: 0.3525 - val_accuracy: 0.5819\n",
            "Epoch 10/50\n",
            "2898/2898 [==============================] - 56s 19ms/step - loss: 0.3531 - accuracy: 0.5825 - val_loss: 0.3544 - val_accuracy: 0.5779\n",
            "Epoch 11/50\n",
            "2898/2898 [==============================] - 55s 19ms/step - loss: 0.3515 - accuracy: 0.5871 - val_loss: 0.3485 - val_accuracy: 0.5886\n",
            "Epoch 12/50\n",
            "2898/2898 [==============================] - 56s 19ms/step - loss: 0.3498 - accuracy: 0.5892 - val_loss: 0.3472 - val_accuracy: 0.5917\n",
            "Epoch 13/50\n",
            "2898/2898 [==============================] - 57s 20ms/step - loss: 0.3475 - accuracy: 0.5946 - val_loss: 0.3479 - val_accuracy: 0.5948\n",
            "Epoch 14/50\n",
            "2898/2898 [==============================] - 56s 19ms/step - loss: 0.3446 - accuracy: 0.6024 - val_loss: 0.3465 - val_accuracy: 0.5998\n",
            "Epoch 15/50\n",
            "2898/2898 [==============================] - 56s 19ms/step - loss: 0.3424 - accuracy: 0.6066 - val_loss: 0.3439 - val_accuracy: 0.6037\n",
            "Epoch 16/50\n",
            "2898/2898 [==============================] - 56s 19ms/step - loss: 0.3400 - accuracy: 0.6127 - val_loss: 0.3493 - val_accuracy: 0.5995\n",
            "Epoch 17/50\n",
            "2898/2898 [==============================] - 55s 19ms/step - loss: 0.3371 - accuracy: 0.6163 - val_loss: 0.3418 - val_accuracy: 0.6099\n",
            "Epoch 18/50\n",
            "2898/2898 [==============================] - 55s 19ms/step - loss: 0.3346 - accuracy: 0.6220 - val_loss: 0.3395 - val_accuracy: 0.6146\n",
            "Epoch 19/50\n",
            "2898/2898 [==============================] - 55s 19ms/step - loss: 0.3323 - accuracy: 0.6259 - val_loss: 0.3395 - val_accuracy: 0.6126\n",
            "Epoch 20/50\n",
            "2898/2898 [==============================] - 56s 19ms/step - loss: 0.3297 - accuracy: 0.6321 - val_loss: 0.3361 - val_accuracy: 0.6216\n",
            "Epoch 21/50\n",
            "2898/2898 [==============================] - 56s 19ms/step - loss: 0.3263 - accuracy: 0.6389 - val_loss: 0.3405 - val_accuracy: 0.6096\n",
            "Epoch 22/50\n",
            "2898/2898 [==============================] - 55s 19ms/step - loss: 0.3232 - accuracy: 0.6463 - val_loss: 0.3324 - val_accuracy: 0.6283\n",
            "Epoch 23/50\n",
            "2898/2898 [==============================] - 55s 19ms/step - loss: 0.3195 - accuracy: 0.6499 - val_loss: 0.3394 - val_accuracy: 0.6157\n",
            "Epoch 24/50\n",
            "2898/2898 [==============================] - 55s 19ms/step - loss: 0.3164 - accuracy: 0.6555 - val_loss: 0.3270 - val_accuracy: 0.6388\n",
            "Epoch 25/50\n",
            "2898/2898 [==============================] - 55s 19ms/step - loss: 0.3125 - accuracy: 0.6639 - val_loss: 0.3281 - val_accuracy: 0.6345\n",
            "Epoch 26/50\n",
            "2897/2898 [============================>.] - ETA: 0s - loss: 0.3091 - accuracy: 0.6701\n",
            "Epoch 00026: ReduceLROnPlateau reducing learning rate to 1.9999999494757503e-05.\n",
            "2898/2898 [==============================] - 56s 19ms/step - loss: 0.3091 - accuracy: 0.6701 - val_loss: 0.3279 - val_accuracy: 0.6361\n",
            "Epoch 27/50\n",
            "2898/2898 [==============================] - 56s 19ms/step - loss: 0.2884 - accuracy: 0.7010 - val_loss: 0.3192 - val_accuracy: 0.6555\n",
            "Epoch 28/50\n",
            "2898/2898 [==============================] - 56s 19ms/step - loss: 0.2834 - accuracy: 0.7067 - val_loss: 0.3183 - val_accuracy: 0.6573\n",
            "Epoch 29/50\n",
            "2898/2898 [==============================] - 56s 19ms/step - loss: 0.2804 - accuracy: 0.7114 - val_loss: 0.3174 - val_accuracy: 0.6607\n",
            "Epoch 30/50\n",
            "2898/2898 [==============================] - 56s 19ms/step - loss: 0.2775 - accuracy: 0.7173 - val_loss: 0.3178 - val_accuracy: 0.6626\n",
            "Epoch 31/50\n",
            "2897/2898 [============================>.] - ETA: 0s - loss: 0.2752 - accuracy: 0.7195\n",
            "Epoch 00031: ReduceLROnPlateau reducing learning rate to 3.999999898951501e-06.\n",
            "2898/2898 [==============================] - 55s 19ms/step - loss: 0.2751 - accuracy: 0.7195 - val_loss: 0.3193 - val_accuracy: 0.6604\n",
            "Epoch 32/50\n",
            "2898/2898 [==============================] - 56s 19ms/step - loss: 0.2680 - accuracy: 0.7304 - val_loss: 0.3185 - val_accuracy: 0.6653\n",
            "Epoch 33/50\n",
            "2898/2898 [==============================] - ETA: 0s - loss: 0.2664 - accuracy: 0.7322\n",
            "Epoch 00033: ReduceLROnPlateau reducing learning rate to 1e-06.\n",
            "2898/2898 [==============================] - 56s 19ms/step - loss: 0.2664 - accuracy: 0.7322 - val_loss: 0.3185 - val_accuracy: 0.6669\n",
            "Epoch 34/50\n",
            "2898/2898 [==============================] - ETA: 0s - loss: 0.2649 - accuracy: 0.7345Restoring model weights from the end of the best epoch.\n",
            "2898/2898 [==============================] - 55s 19ms/step - loss: 0.2649 - accuracy: 0.7345 - val_loss: 0.3192 - val_accuracy: 0.6665\n",
            "Epoch 00034: early stopping\n"
          ],
          "name": "stdout"
        }
      ]
    },
    {
      "cell_type": "code",
      "metadata": {
        "id": "QaQudYoLHSOj",
        "colab_type": "code",
        "colab": {
          "base_uri": "https://localhost:8080/",
          "height": 313
        },
        "outputId": "c5d5350d-518d-48c9-d15c-26b804dd1d24"
      },
      "source": [
        "plt.plot(result.history['accuracy'], label='train acc')\n",
        "plt.plot(result.history['val_accuracy'], label='val acc')\n",
        "plt.title('RNN-LSTM model accuracy')\n",
        "plt.ylabel('accuracy')\n",
        "plt.xlabel('epoch')\n",
        "plt.legend()\n",
        "plt.show()\n",
        "plt.savefig('AccVal_acc')"
      ],
      "execution_count": 22,
      "outputs": [
        {
          "output_type": "display_data",
          "data": {
            "image/png": "[encoded data removed]",
            "text/plain": [
              "<Figure size 432x288 with 1 Axes>"
            ]
          },
          "metadata": {
            "tags": [],
            "needs_background": "light"
          }
        },
        {
          "output_type": "display_data",
          "data": {
            "text/plain": [
              "<Figure size 432x288 with 0 Axes>"
            ]
          },
          "metadata": {
            "tags": []
          }
        }
      ]
    },
    {
      "cell_type": "code",
      "metadata": {
        "id": "wY66xPUxHe2Q",
        "colab_type": "code",
        "colab": {
          "base_uri": "https://localhost:8080/",
          "height": 313
        },
        "outputId": "a5a53b97-c7d6-44b0-d0d3-c07d8220d217"
      },
      "source": [
        "plt.plot(result.history['loss'], label='train loss')\n",
        "plt.plot(result.history['val_loss'], label='val loss')\n",
        "plt.legend()\n",
        "plt.title('RNN-LSTM model loss')\n",
        "plt.ylabel('loss')\n",
        "plt.xlabel('epoch')\n",
        "plt.show()\n",
        "plt.savefig('LossVal_loss')"
      ],
      "execution_count": 23,
      "outputs": [
        {
          "output_type": "display_data",
          "data": {
            "image/png": "[encoded data removed]",
            "text/plain": [
              "<Figure size 432x288 with 1 Axes>"
            ]
          },
          "metadata": {
            "tags": [],
            "needs_background": "light"
          }
        },
        {
          "output_type": "display_data",
          "data": {
            "text/plain": [
              "<Figure size 432x288 with 0 Axes>"
            ]
          },
          "metadata": {
            "tags": []
          }
        }
      ]
    },
    {
      "cell_type": "code",
      "metadata": {
        "id": "YdSXLLnVc0QL",
        "colab_type": "code",
        "colab": {
          "base_uri": "https://localhost:8080/",
          "height": 89
        },
        "outputId": "0a39df34-17c1-40fe-f882-fae7c4500c45"
      },
      "source": [
        "yhat = np.argmax(model.predict(X_test), axis=-1)\n",
        "yhat_classes = np.argmax(model.predict_classes(X_test), axis=-1)"
      ],
      "execution_count": 24,
      "outputs": [
        {
          "output_type": "stream",
          "text": [
            "WARNING:tensorflow:From <ipython-input-24-ce206ad77a93>:2: Sequential.predict_classes (from tensorflow.python.keras.engine.sequential) is deprecated and will be removed after 2021-01-01.\n",
            "Instructions for updating:\n",
            "Please use instead:* `np.argmax(model.predict(x), axis=-1)`,   if your model does multi-class classification   (e.g. if it uses a `softmax` last-layer activation).* `(model.predict(x) > 0.5).astype(\"int32\")`,   if your model does binary classification   (e.g. if it uses a `sigmoid` last-layer activation).\n"
          ],
          "name": "stdout"
        }
      ]
    },
    {
      "cell_type": "code",
      "metadata": {
        "id": "qKt2Y4H4c7mD",
        "colab_type": "code",
        "colab": {}
      },
      "source": [
        "y_test = np.argmax(y_test, axis=1)"
      ],
      "execution_count": 25,
      "outputs": []
    },
    {
      "cell_type": "code",
      "metadata": {
        "id": "pOS3EY5gc_GD",
        "colab_type": "code",
        "colab": {
          "base_uri": "https://localhost:8080/",
          "height": 141
        },
        "outputId": "345fef59-b5ec-4080-ac63-8f5e7574da6a"
      },
      "source": [
        "# accuracy: (tp + tn) / (p + n)\n",
        "accuracy = accuracy_score(y_test, yhat)\n",
        "print('Accuracy of RNN: %f' % accuracy)\n",
        "# precision tp / (tp + fp)\n",
        "precision = precision_score(y_test, yhat, pos_label='positive', average='micro')\n",
        "print('Precision of RNN: %f' % precision)\n",
        "# recall: tp / (tp + fn)\n",
        "recall = recall_score(y_test, yhat, pos_label='positive', average='micro')\n",
        "print('Recall of RNN: %f' % recall)\n",
        "# f1: 2 tp / (2 tp + fp + fn)\n",
        "f1 = f1_score(y_test, yhat, pos_label='positive', average='micro')\n",
        "print('F1 score of RNN: %f' % f1)"
      ],
      "execution_count": 32,
      "outputs": [
        {
          "output_type": "stream",
          "text": [
            "Accuracy of RNN: 0.660714\n",
            "Precision of RNN: 0.660714\n",
            "Recall of RNN: 0.660714\n",
            "F1 score of RNN: 0.660714\n"
          ],
          "name": "stdout"
        },
        {
          "output_type": "stream",
          "text": [
            "/usr/local/lib/python3.6/dist-packages/sklearn/metrics/_classification.py:1321: UserWarning: Note that pos_label (set to 'positive') is ignored when average != 'binary' (got 'micro'). You may use labels=[pos_label] to specify a single positive class.\n",
            "  % (pos_label, average), UserWarning)\n"
          ],
          "name": "stderr"
        }
      ]
    },
    {
      "cell_type": "code",
      "metadata": {
        "id": "buhwGUyfdGa0",
        "colab_type": "code",
        "colab": {
          "base_uri": "https://localhost:8080/",
          "height": 35
        },
        "outputId": "3528f4d5-7418-42ec-cc9c-8579238e4c04"
      },
      "source": [
        "mean_absolute_error(y_test,yhat)"
      ],
      "execution_count": 27,
      "outputs": [
        {
          "output_type": "execute_result",
          "data": {
            "text/plain": [
              "0.4644151138716356"
            ]
          },
          "metadata": {
            "tags": []
          },
          "execution_count": 27
        }
      ]
    },
    {
      "cell_type": "code",
      "metadata": {
        "id": "Q9cFO2hUdL8m",
        "colab_type": "code",
        "colab": {
          "base_uri": "https://localhost:8080/",
          "height": 345
        },
        "outputId": "ec3aded4-44c3-4646-d38b-e719ffa99795"
      },
      "source": [
        "cm = confusion_matrix(y_test, yhat)\n",
        "#print(cm)\n",
        "# create heatmap\n",
        "sns.heatmap(pd.DataFrame(cm), annot=True, cmap=\"YlGnBu\" ,fmt='g')\n",
        " \n",
        "plt.tight_layout()\n",
        "plt.title('Confusion matrix for RNN-LSTM', y=1.1)\n",
        "plt.ylabel('Actual label')\n",
        "plt.xlabel('Predicted label')"
      ],
      "execution_count": 31,
      "outputs": [
        {
          "output_type": "execute_result",
          "data": {
            "text/plain": [
              "Text(0.5, 15.0, 'Predicted label')"
            ]
          },
          "metadata": {
            "tags": []
          },
          "execution_count": 31
        },
        {
          "output_type": "display_data",
          "data": {
            "image/png": "[encoded data removed]",
            "text/plain": [
              "<Figure size 432x288 with 2 Axes>"
            ]
          },
          "metadata": {
            "tags": [],
            "needs_background": "light"
          }
        }
      ]
    },
    {
      "cell_type": "code",
      "metadata": {
        "id": "Xq06wi12aS9o",
        "colab_type": "code",
        "colab": {
          "base_uri": "https://localhost:8080/",
          "height": 35
        },
        "outputId": "85d9f6d8-3ed5-47ff-8e23-3962c8fce333"
      },
      "source": [
        "checkpoint_RNN = ModelCheckpoint(model_path, monitor='val_accuracy', verbose=1, save_best_only=True, save_weights_only=False, period=1)"
      ],
      "execution_count": 29,
      "outputs": [
        {
          "output_type": "stream",
          "text": [
            "WARNING:tensorflow:`period` argument is deprecated. Please use `save_freq` to specify the frequency in number of batches seen.\n"
          ],
          "name": "stdout"
        }
      ]
    },
    {
      "cell_type": "code",
      "metadata": {
        "id": "fReymwc6aXQG",
        "colab_type": "code",
        "colab": {
          "base_uri": "https://localhost:8080/",
          "height": 159
        },
        "outputId": "0b5064a7-df4c-4cb6-893f-deac83aef6aa"
      },
      "source": [
        "model.save(model_path)"
      ],
      "execution_count": 30,
      "outputs": [
        {
          "output_type": "stream",
          "text": [
            "WARNING:tensorflow:From /usr/local/lib/python3.6/dist-packages/tensorflow/python/training/tracking/tracking.py:111: Model.state_updates (from tensorflow.python.keras.engine.training) is deprecated and will be removed in a future version.\n",
            "Instructions for updating:\n",
            "This property should not be used in TensorFlow 2.0, as updates are applied automatically.\n",
            "WARNING:tensorflow:From /usr/local/lib/python3.6/dist-packages/tensorflow/python/training/tracking/tracking.py:111: Layer.updates (from tensorflow.python.keras.engine.base_layer) is deprecated and will be removed in a future version.\n",
            "Instructions for updating:\n",
            "This property should not be used in TensorFlow 2.0, as updates are applied automatically.\n",
            "INFO:tensorflow:Assets written to: Models/assets\n"
          ],
          "name": "stdout"
        }
      ]
    }
  ]
}